{
 "cells": [
  {
   "cell_type": "markdown",
   "id": "07b84abd",
   "metadata": {},
   "source": [
    "# 1. Arithmetic operators"
   ]
  },
  {
   "cell_type": "code",
   "execution_count": 3,
   "id": "2e682cc7",
   "metadata": {},
   "outputs": [
    {
     "name": "stdout",
     "output_type": "stream",
     "text": [
      "addition: 13\n",
      "substraction: 7\n",
      "multiplication: 30\n",
      "division: 3.3333333333333335\n",
      "modulus: 1\n",
      "floor division: 3\n",
      "exponentiation: 1000\n"
     ]
    }
   ],
   "source": [
    "a = 10\n",
    "b = 3\n",
    "# arithmetic operator\n",
    "print (\"addition:\", a+b)\n",
    "print(\"substraction:\", a-b)\n",
    "print(\"multiplication:\", a*b)\n",
    "print(\"division:\", a/b)\n",
    "print(\"modulus:\", a%b)\n",
    "print(\"floor division:\", a//b)\n",
    "print(\"exponentiation:\", a**b)\n"
   ]
  },
  {
   "cell_type": "markdown",
   "id": "3aaa0d70",
   "metadata": {},
   "source": [
    "# 2. Assignment operators"
   ]
  },
  {
   "cell_type": "code",
   "execution_count": 6,
   "id": "4dc9e3dd",
   "metadata": {},
   "outputs": [
    {
     "name": "stdout",
     "output_type": "stream",
     "text": [
      "x = 10\n",
      "x += 2 : 12\n",
      "x-=4 : 8\n",
      "x *= 3 : 24\n",
      "x /= 6 : 4.0\n",
      "x%=3 : 1.0\n"
     ]
    }
   ],
   "source": [
    "x = 10\n",
    "# assignment operators\n",
    "print(\"x =\", x)\n",
    "x += 2\n",
    "print(\"x += 2 :\", x)\n",
    "x -= 4\n",
    "print(\"x-=4 :\", x)\n",
    "x *= 3\n",
    "print(\"x *= 3 :\", x)\n",
    "x /= 6\n",
    "print(\"x /= 6 :\", x)\n",
    "x %= 3\n",
    "print(\"x%=3 :\", x)"
   ]
  },
  {
   "cell_type": "markdown",
   "id": "87c9295d",
   "metadata": {},
   "source": [
    "# 3. Comparison operator"
   ]
  },
  {
   "cell_type": "code",
   "execution_count": null,
   "id": "5e55c5e0",
   "metadata": {},
   "outputs": [
    {
     "name": "stdout",
     "output_type": "stream",
     "text": [
      "x == y: False\n",
      "x!=y: True\n",
      "x > y: False\n",
      "x<y: True\n",
      "x>=y: False\n",
      "x<=y: True\n"
     ]
    }
   ],
   "source": [
    "x = 5\n",
    "y = 10\n",
    "# Comparison operator\n",
    "print(\"x == y:\", x == y)\n",
    "print(\"x!=y:\", x!=y)\n",
    "print(\"x > y:\", x>y)\n",
    "print(\"x<y:\", x<y)\n",
    "print(\"x>=y:\", x>=y)\n",
    "print(\"x<=y:\", x<=y)"
   ]
  },
  {
   "cell_type": "markdown",
   "id": "d0a49bd1",
   "metadata": {},
   "source": [
    "# 4. Logical operators"
   ]
  },
  {
   "cell_type": "code",
   "execution_count": null,
   "id": "4c32abe4",
   "metadata": {},
   "outputs": [
    {
     "name": "stdout",
     "output_type": "stream",
     "text": [
      "True\n",
      "False\n"
     ]
    }
   ],
   "source": [
    "x = 10 \n",
    "b = 5\n",
    "# Logical operators\n",
    "#and logical operators\n",
    "print (a>5 and b>2)\n",
    "print(a>5 and b<2)"
   ]
  },
  {
   "cell_type": "code",
   "execution_count": 10,
   "id": "4dee6c1b",
   "metadata": {},
   "outputs": [
    {
     "name": "stdout",
     "output_type": "stream",
     "text": [
      "True\n",
      "False\n"
     ]
    }
   ],
   "source": [
    "# or logical operator\n",
    "x=3\n",
    "y=7\n",
    "print(x>5 or y>5)\n",
    "print(x>5 or y<5)"
   ]
  },
  {
   "cell_type": "code",
   "execution_count": 11,
   "id": "669bc7f5",
   "metadata": {},
   "outputs": [
    {
     "name": "stdout",
     "output_type": "stream",
     "text": [
      "False\n",
      "True\n"
     ]
    }
   ],
   "source": [
    "# not logical operator\n",
    "z = 8\n",
    "print(not z>5)\n",
    "print(not z < 5)"
   ]
  },
  {
   "cell_type": "markdown",
   "id": "44a00416",
   "metadata": {},
   "source": [
    "# 5. Membership operators"
   ]
  },
  {
   "cell_type": "code",
   "execution_count": 12,
   "id": "70eb2355",
   "metadata": {},
   "outputs": [
    {
     "name": "stdout",
     "output_type": "stream",
     "text": [
      "True\n",
      "False\n",
      "True\n",
      "False\n"
     ]
    }
   ],
   "source": [
    "# membership operators\n",
    "fruits = [\"apple\",\"cherry\",\"mango\"]\n",
    "print(\"apple\" in fruits)\n",
    "print(\"grapes\" in fruits)\n",
    "print(\"grapes\" not in fruits)\n",
    "print(\"apple\" not in fruits)"
   ]
  },
  {
   "cell_type": "markdown",
   "id": "78b5e38a",
   "metadata": {},
   "source": [
    "# 6. Identity operator"
   ]
  },
  {
   "cell_type": "code",
   "execution_count": 13,
   "id": "62efc49a",
   "metadata": {},
   "outputs": [
    {
     "name": "stdout",
     "output_type": "stream",
     "text": [
      "True\n",
      "True\n",
      "False\n",
      "True\n"
     ]
    }
   ],
   "source": [
    "# identity operator\n",
    "x = 10\n",
    "y = 10\n",
    "z = 20\n",
    "print(x == y) #True = same value\n",
    "print(x is y) #true = same object\n",
    "print(x is z) #false = different value + different object\n",
    "print(x is not z) #true = x and z are not same object"
   ]
  }
 ],
 "metadata": {
  "kernelspec": {
   "display_name": "base",
   "language": "python",
   "name": "python3"
  },
  "language_info": {
   "codemirror_mode": {
    "name": "ipython",
    "version": 3
   },
   "file_extension": ".py",
   "mimetype": "text/x-python",
   "name": "python",
   "nbconvert_exporter": "python",
   "pygments_lexer": "ipython3",
   "version": "3.13.2"
  }
 },
 "nbformat": 4,
 "nbformat_minor": 5
}
