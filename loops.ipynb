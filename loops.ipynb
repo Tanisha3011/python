{
 "cells": [
  {
   "cell_type": "code",
   "execution_count": 14,
   "id": "440be7f7",
   "metadata": {},
   "outputs": [
    {
     "name": "stdout",
     "output_type": "stream",
     "text": [
      "0\n",
      "1\n",
      "2\n",
      "3\n",
      "4\n",
      "5\n",
      "6\n",
      "7\n",
      "8\n",
      "9\n",
      "10\n"
     ]
    }
   ],
   "source": [
    "for i in range (11):\n",
    "    print(i)"
   ]
  },
  {
   "cell_type": "code",
   "execution_count": 15,
   "id": "c93e1e51",
   "metadata": {},
   "outputs": [
    {
     "name": "stdout",
     "output_type": "stream",
     "text": [
      "1\n",
      "3\n",
      "5\n",
      "7\n",
      "9\n"
     ]
    }
   ],
   "source": [
    "for i in range (1,11,2):\n",
    "    print(i)"
   ]
  },
  {
   "cell_type": "code",
   "execution_count": 16,
   "id": "c2eb0bb6",
   "metadata": {},
   "outputs": [
    {
     "name": "stdout",
     "output_type": "stream",
     "text": [
      "10\n",
      "20\n",
      "30\n",
      "40\n",
      "50\n",
      "60\n",
      "70\n",
      "80\n",
      "90\n",
      "100\n"
     ]
    }
   ],
   "source": [
    "for i in range (10,110,10):\n",
    "    print(i)"
   ]
  },
  {
   "cell_type": "code",
   "execution_count": 17,
   "id": "e21c570f",
   "metadata": {},
   "outputs": [
    {
     "name": "stdout",
     "output_type": "stream",
     "text": [
      "2\n",
      "4\n",
      "6\n",
      "8\n",
      "10\n",
      "12\n",
      "14\n",
      "16\n",
      "18\n",
      "20\n",
      "22\n",
      "24\n",
      "26\n",
      "28\n",
      "30\n",
      "32\n",
      "34\n",
      "36\n",
      "38\n",
      "40\n",
      "42\n",
      "44\n",
      "46\n",
      "48\n",
      "50\n",
      "52\n",
      "54\n",
      "56\n",
      "58\n"
     ]
    }
   ],
   "source": [
    "for i in range(1,60):\n",
    "    if i % 2 == 0:\n",
    "        print(i)"
   ]
  },
  {
   "cell_type": "code",
   "execution_count": 18,
   "id": "d7b65b26",
   "metadata": {},
   "outputs": [
    {
     "name": "stdout",
     "output_type": "stream",
     "text": [
      "1\n",
      "even\n",
      "2\n",
      "3\n",
      "even\n",
      "4\n",
      "5\n",
      "even\n",
      "6\n",
      "7\n",
      "even\n",
      "8\n",
      "9\n",
      "even\n",
      "10\n",
      "11\n",
      "even\n",
      "12\n",
      "13\n",
      "even\n",
      "14\n",
      "15\n",
      "even\n",
      "16\n",
      "17\n",
      "even\n",
      "18\n",
      "19\n",
      "even\n",
      "20\n",
      "21\n",
      "even\n",
      "22\n",
      "23\n",
      "even\n",
      "24\n",
      "25\n",
      "even\n",
      "26\n",
      "27\n",
      "even\n",
      "28\n",
      "29\n",
      "even\n",
      "30\n",
      "31\n",
      "even\n",
      "32\n",
      "33\n",
      "even\n",
      "34\n",
      "35\n",
      "even\n",
      "36\n",
      "37\n",
      "even\n",
      "38\n",
      "39\n",
      "even\n",
      "40\n",
      "41\n",
      "even\n",
      "42\n",
      "43\n",
      "even\n",
      "44\n",
      "45\n",
      "even\n",
      "46\n",
      "47\n",
      "even\n",
      "48\n",
      "49\n",
      "even\n",
      "50\n",
      "51\n",
      "even\n",
      "52\n",
      "53\n",
      "even\n",
      "54\n",
      "55\n",
      "even\n",
      "56\n",
      "57\n",
      "even\n",
      "58\n",
      "59\n"
     ]
    }
   ],
   "source": [
    "for i in range(1,60):\n",
    "    if i % 2 == 0:\n",
    "        print(\"even\")\n",
    "    print (i)   "
   ]
  },
  {
   "cell_type": "code",
   "execution_count": 19,
   "id": "ef0c493c",
   "metadata": {},
   "outputs": [
    {
     "name": "stdout",
     "output_type": "stream",
     "text": [
      "156\n",
      "162\n",
      "168\n",
      "174\n",
      "180\n",
      "186\n",
      "192\n",
      "198\n",
      "204\n",
      "210\n",
      "216\n",
      "222\n",
      "228\n",
      "234\n",
      "240\n",
      "246\n",
      "252\n",
      "258\n",
      "264\n",
      "270\n",
      "276\n",
      "282\n",
      "288\n",
      "294\n",
      "300\n",
      "306\n",
      "312\n",
      "318\n",
      "324\n"
     ]
    }
   ],
   "source": [
    "for i in range (152,329):\n",
    "    if i % 6 == 0:\n",
    "        print (i)"
   ]
  },
  {
   "cell_type": "code",
   "execution_count": 20,
   "id": "d8e85966",
   "metadata": {},
   "outputs": [
    {
     "name": "stdout",
     "output_type": "stream",
     "text": [
      "204\n",
      "306\n",
      "408\n",
      "510\n",
      "612\n"
     ]
    }
   ],
   "source": [
    "for i in range(152,629):\n",
    "    if (i % 6 == 0) and (i%17==0):\n",
    "        print (i)"
   ]
  },
  {
   "cell_type": "markdown",
   "id": "3bc7b9c4",
   "metadata": {},
   "source": [
    "WAP to display the sum of all numbers from 10 to 40."
   ]
  },
  {
   "cell_type": "code",
   "execution_count": 21,
   "id": "6181e673",
   "metadata": {},
   "outputs": [
    {
     "name": "stdout",
     "output_type": "stream",
     "text": [
      "775\n"
     ]
    }
   ],
   "source": [
    "sum = 0\n",
    "for i in range (10,41):\n",
    "    sum = sum + i\n",
    "print (sum)    "
   ]
  },
  {
   "cell_type": "code",
   "execution_count": 22,
   "id": "3793aee5",
   "metadata": {},
   "outputs": [
    {
     "name": "stdout",
     "output_type": "stream",
     "text": [
      "400\n"
     ]
    }
   ],
   "source": [
    "sum = 0\n",
    "for i in range(10,41):\n",
    "    if i % 2==0:\n",
    "        sum = sum + i\n",
    "print(sum)        "
   ]
  },
  {
   "cell_type": "markdown",
   "id": "ce2abf7b",
   "metadata": {},
   "source": [
    "WAP to find the total product of all the numbers divisible by 13 in between 222 and 845"
   ]
  },
  {
   "cell_type": "code",
   "execution_count": 23,
   "id": "c8b04ae4",
   "metadata": {},
   "outputs": [
    {
     "name": "stdout",
     "output_type": "stream",
     "text": [
      "8085110142039910744952055354811477959620653259287920127920535354496871849246726626590929843562089507387277061180620800000000000\n"
     ]
    }
   ],
   "source": [
    "p = 1\n",
    "for i in range (222,845):\n",
    "    if i % 13 == 0:\n",
    "        p=p*i\n",
    "print(p)        "
   ]
  },
  {
   "cell_type": "code",
   "execution_count": 24,
   "id": "11b8adf3",
   "metadata": {},
   "outputs": [
    {
     "name": "stdout",
     "output_type": "stream",
     "text": [
      "access granted\n"
     ]
    }
   ],
   "source": [
    "correct_password = 'abc123'\n",
    "while True:\n",
    "    inputpass = input(\"enter the password:\")\n",
    "    if inputpass == correct_password:\n",
    "        print('access granted')\n",
    "        break\n",
    "    else:\n",
    "        print('access denied, try again')\n",
    "        # continue\n"
   ]
  },
  {
   "cell_type": "code",
   "execution_count": 25,
   "id": "a26c53d9",
   "metadata": {},
   "outputs": [
    {
     "name": "stdout",
     "output_type": "stream",
     "text": [
      "20\n",
      "18\n",
      "16\n",
      "14\n",
      "12\n"
     ]
    }
   ],
   "source": [
    "for i in range (20,11,-2):\n",
    "    print(i)"
   ]
  },
  {
   "cell_type": "code",
   "execution_count": 26,
   "id": "2a2c92cc",
   "metadata": {},
   "outputs": [
    {
     "name": "stdout",
     "output_type": "stream",
     "text": [
      "username is valid\n"
     ]
    }
   ],
   "source": [
    "while True:\n",
    "   username = input('enter your username:')\n",
    "   if (len(username) >= 7):\n",
    "      print('username is valid')\n",
    "      break\n",
    "   else:\n",
    "      print('username must be at least 7 characters long, try again')"
   ]
  },
  {
   "cell_type": "code",
   "execution_count": 27,
   "id": "e50190c8",
   "metadata": {},
   "outputs": [
    {
     "name": "stdout",
     "output_type": "stream",
     "text": [
      "1470\n"
     ]
    }
   ],
   "source": [
    "sum=0\n",
    "for i in range(100,301):\n",
    "    if (i % 5==0) and (i % 6==0):\n",
    "        sum= sum + i\n",
    "print(sum)        "
   ]
  },
  {
   "cell_type": "code",
   "execution_count": 28,
   "id": "c44878bf",
   "metadata": {},
   "outputs": [
    {
     "name": "stdout",
     "output_type": "stream",
     "text": [
      "1386\n"
     ]
    }
   ],
   "source": [
    "sum=0\n",
    "for i in range(200,501):\n",
    "    if (i % 7==0) and (i % 11==0):\n",
    "        sum= sum + i\n",
    "print(sum)        "
   ]
  },
  {
   "cell_type": "code",
   "execution_count": 29,
   "id": "856d8bdd",
   "metadata": {},
   "outputs": [
    {
     "name": "stdout",
     "output_type": "stream",
     "text": [
      "30\n"
     ]
    }
   ],
   "source": [
    "p=1\n",
    "for i in range(1,51):\n",
    "    if(i % 5==0) and (i % 6==0):\n",
    "        p=p*i\n",
    "print(p)        "
   ]
  },
  {
   "cell_type": "markdown",
   "id": "454d6200",
   "metadata": {},
   "source": [
    "WAP to check if the number is prime or not.\n"
   ]
  },
  {
   "cell_type": "code",
   "execution_count": 30,
   "id": "7f2f1386",
   "metadata": {},
   "outputs": [
    {
     "name": "stdout",
     "output_type": "stream",
     "text": [
      "14 is not a prime number\n"
     ]
    }
   ],
   "source": [
    "num = int(input('enter a number: '))\n",
    "for i in range(2,num):\n",
    "    if num % i==0:\n",
    "        print(f'{num} is not a prime number')\n",
    "        break\n",
    "    else:\n",
    "        print(f'{num} is a prime number')\n",
    "        break"
   ]
  }
 ],
 "metadata": {
  "kernelspec": {
   "display_name": "base",
   "language": "python",
   "name": "python3"
  },
  "language_info": {
   "codemirror_mode": {
    "name": "ipython",
    "version": 3
   },
   "file_extension": ".py",
   "mimetype": "text/x-python",
   "name": "python",
   "nbconvert_exporter": "python",
   "pygments_lexer": "ipython3",
   "version": "3.13.2"
  }
 },
 "nbformat": 4,
 "nbformat_minor": 5
}
