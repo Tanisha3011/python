{
 "cells": [
  {
   "cell_type": "markdown",
   "id": "1f70ad5f",
   "metadata": {},
   "source": [
    "# Operators\n"
   ]
  },
  {
   "cell_type": "code",
   "execution_count": null,
   "id": "924292a5",
   "metadata": {},
   "outputs": [
    {
     "name": "stdout",
     "output_type": "stream",
     "text": [
      "True\n"
     ]
    }
   ],
   "source": [
    "#1-a\n",
    "x=4\n",
    "y=5\n",
    "z=x<y\n",
    "print(z)"
   ]
  },
  {
   "cell_type": "code",
   "execution_count": null,
   "id": "885c3d4e",
   "metadata": {},
   "outputs": [
    {
     "name": "stdout",
     "output_type": "stream",
     "text": [
      "helloworld\n"
     ]
    }
   ],
   "source": [
    "#2-a\n",
    "x=\"hello\"\n",
    "y=\"world\"\n",
    "z=x+y\n",
    "print(z)"
   ]
  },
  {
   "cell_type": "code",
   "execution_count": 3,
   "id": "d862636f",
   "metadata": {},
   "outputs": [],
   "source": [
    "#3-a"
   ]
  },
  {
   "cell_type": "code",
   "execution_count": 4,
   "id": "cea53872",
   "metadata": {},
   "outputs": [
    {
     "name": "stdout",
     "output_type": "stream",
     "text": [
      "5\n"
     ]
    }
   ],
   "source": [
    "#4\n",
    "a=int(input(\"enter a number\"))\n",
    "print(a)"
   ]
  },
  {
   "cell_type": "code",
   "execution_count": 5,
   "id": "75528aae",
   "metadata": {},
   "outputs": [
    {
     "data": {
      "text/plain": [
       "int"
      ]
     },
     "execution_count": 5,
     "metadata": {},
     "output_type": "execute_result"
    }
   ],
   "source": [
    "#5\n",
    "type(a)"
   ]
  },
  {
   "cell_type": "code",
   "execution_count": 9,
   "id": "c2f7b1ba",
   "metadata": {},
   "outputs": [
    {
     "name": "stdout",
     "output_type": "stream",
     "text": [
      "24389\n"
     ]
    }
   ],
   "source": [
    "#6\n",
    "a=29\n",
    "b = a ** 3\n",
    "print(b)"
   ]
  },
  {
   "cell_type": "code",
   "execution_count": 10,
   "id": "d9c62503",
   "metadata": {},
   "outputs": [
    {
     "name": "stdout",
     "output_type": "stream",
     "text": [
      "True\n",
      "True\n",
      "True\n"
     ]
    }
   ],
   "source": [
    "#7\n",
    "a=4\n",
    "b=6\n",
    "print(a<10) and (b<5)\n",
    "print(a<5) or (b>10)\n",
    "print(not a>5)"
   ]
  },
  {
   "cell_type": "code",
   "execution_count": null,
   "id": "f776233c",
   "metadata": {},
   "outputs": [
    {
     "name": "stdout",
     "output_type": "stream",
     "text": [
      "True\n",
      "False\n",
      "False\n",
      "True\n"
     ]
    }
   ],
   "source": [
    "#8\n",
    "a=10\n",
    "b=10\n",
    "c=20\n",
    "print(a is b)\n",
    "print(a is not b)\n",
    "print(a is c)\n",
    "print(a is not c)"
   ]
  },
  {
   "cell_type": "code",
   "execution_count": 12,
   "id": "88e261c5",
   "metadata": {},
   "outputs": [],
   "source": [
    "#9-b"
   ]
  },
  {
   "cell_type": "code",
   "execution_count": null,
   "id": "26301b32",
   "metadata": {},
   "outputs": [
    {
     "name": "stdout",
     "output_type": "stream",
     "text": [
      "15\n"
     ]
    }
   ],
   "source": [
    "#10-d\n",
    "x=5\n",
    "x*=3\n",
    "print(x)"
   ]
  },
  {
   "cell_type": "markdown",
   "id": "4803f1f8",
   "metadata": {},
   "source": [
    "# datatypes"
   ]
  },
  {
   "cell_type": "code",
   "execution_count": 14,
   "id": "43db53b0",
   "metadata": {},
   "outputs": [],
   "source": [
    "#1-type() function"
   ]
  },
  {
   "cell_type": "code",
   "execution_count": 15,
   "id": "a2f1d1d4",
   "metadata": {},
   "outputs": [],
   "source": [
    "#2-b"
   ]
  },
  {
   "cell_type": "code",
   "execution_count": 16,
   "id": "8f7dbf8e",
   "metadata": {},
   "outputs": [],
   "source": [
    "#3-c"
   ]
  },
  {
   "cell_type": "code",
   "execution_count": 17,
   "id": "9c547090",
   "metadata": {},
   "outputs": [],
   "source": [
    "#4-b"
   ]
  },
  {
   "cell_type": "code",
   "execution_count": 18,
   "id": "52cdfc10",
   "metadata": {},
   "outputs": [],
   "source": [
    "#5-c"
   ]
  },
  {
   "cell_type": "code",
   "execution_count": 19,
   "id": "6238e62a",
   "metadata": {},
   "outputs": [],
   "source": [
    "#6-d"
   ]
  },
  {
   "cell_type": "code",
   "execution_count": 20,
   "id": "e0c17a7c",
   "metadata": {},
   "outputs": [],
   "source": [
    "#7-d"
   ]
  },
  {
   "cell_type": "code",
   "execution_count": 21,
   "id": "41e56123",
   "metadata": {},
   "outputs": [],
   "source": [
    "#8-c"
   ]
  },
  {
   "cell_type": "code",
   "execution_count": 22,
   "id": "39ab83c4",
   "metadata": {},
   "outputs": [],
   "source": [
    "#9-b"
   ]
  },
  {
   "cell_type": "code",
   "execution_count": 25,
   "id": "7dae4c29",
   "metadata": {},
   "outputs": [
    {
     "name": "stdout",
     "output_type": "stream",
     "text": [
      "78\n"
     ]
    },
    {
     "data": {
      "text/plain": [
       "int"
      ]
     },
     "execution_count": 25,
     "metadata": {},
     "output_type": "execute_result"
    }
   ],
   "source": [
    "#10\n",
    "a=input(\"enter a number\")\n",
    "b=int(a)\n",
    "print(b)\n",
    "type(b)"
   ]
  },
  {
   "cell_type": "markdown",
   "id": "e974269e",
   "metadata": {},
   "source": [
    "# conditional statement"
   ]
  },
  {
   "cell_type": "code",
   "execution_count": null,
   "id": "44d6f703",
   "metadata": {},
   "outputs": [
    {
     "name": "stdout",
     "output_type": "stream",
     "text": [
      "number is negative\n"
     ]
    }
   ],
   "source": [
    "# 1. Program to check is a number is positive or not.\n",
    "num = int(input(\"enter a number\"))\n",
    "if num>=0:\n",
    "    print(\"number is positive\")\n",
    "else:\n",
    "    print(\"number is negative\")"
   ]
  },
  {
   "cell_type": "code",
   "execution_count": null,
   "id": "5e997708",
   "metadata": {},
   "outputs": [
    {
     "name": "stdout",
     "output_type": "stream",
     "text": [
      "number is odd\n"
     ]
    }
   ],
   "source": [
    "# 2. Program to check if a number is even or odd.\n",
    "num = int(input(\"enter a number\"))\n",
    "if num % 2 == 0:\n",
    "    print(\"number is even\")\n",
    "else:\n",
    "    print(\"number is odd\")"
   ]
  },
  {
   "cell_type": "code",
   "execution_count": null,
   "id": "6024d942",
   "metadata": {},
   "outputs": [
    {
     "name": "stdout",
     "output_type": "stream",
     "text": [
      "not a leap year\n"
     ]
    }
   ],
   "source": [
    "# 3. Program to check if a year is a leap year or not.\n",
    "year = int(input(\"enter a year to check if it is leap year or not\"))\n",
    "if year % 4 == 0:\n",
    "    print(\"it is a leap year\")\n",
    "else:\n",
    "    print(\"not a leap year\")"
   ]
  },
  {
   "cell_type": "code",
   "execution_count": 13,
   "id": "dbd6df02",
   "metadata": {},
   "outputs": [
    {
     "name": "stdout",
     "output_type": "stream",
     "text": [
      "43 num2 is largest\n"
     ]
    }
   ],
   "source": [
    "# 4. Program to find the largest among three numbers.\n",
    "num1 = int(input(\"enter a number\"))\n",
    "num2 = int(input(\"enter a number\"))\n",
    "num3 = int(input(\"enter a number\"))\n",
    "if num1 > num2 and num1 > num3:\n",
    "    print(num1,\"num1 is largest\")\n",
    "elif num2 > num1 and num2 > num3:\n",
    "    print(num2,\"num2 is largest\")\n",
    "else:\n",
    "    print(num3,\"num3 is largest\")\n"
   ]
  },
  {
   "cell_type": "code",
   "execution_count": 4,
   "id": "36ef7cce",
   "metadata": {},
   "outputs": [
    {
     "name": "stdout",
     "output_type": "stream",
     "text": [
      "13  is a prime number\n"
     ]
    }
   ],
   "source": [
    "#5. Program to check if a number is prime or not.\n",
    "num = int(input(\"enter a number\"))\n",
    "for i in range (2,num):\n",
    "    if num % i == 0:\n",
    "        print(num,\" is not a prime number\")\n",
    "        break\n",
    "else:\n",
    "    print(num,\" is a prime number\")"
   ]
  },
  {
   "cell_type": "code",
   "execution_count": 7,
   "id": "65e55f4f",
   "metadata": {},
   "outputs": [
    {
     "name": "stdout",
     "output_type": "stream",
     "text": [
      "b character is not vowel\n"
     ]
    }
   ],
   "source": [
    "#6. Program to check if a character is a vowel or not.\n",
    "char = input(\"enter a character\")\n",
    "vow = ['a','e','i','o','u']\n",
    "if char.lower() in vow:\n",
    "    print(char,\"character is vowel\")\n",
    "else:\n",
    "    print(char,\"character is not vowel\")"
   ]
  },
  {
   "cell_type": "code",
   "execution_count": null,
   "id": "32993971",
   "metadata": {},
   "outputs": [],
   "source": [
    "#7. Program to check if a string is a palindrome or not.\n",
    "\n"
   ]
  }
 ],
 "metadata": {
  "kernelspec": {
   "display_name": "base",
   "language": "python",
   "name": "python3"
  },
  "language_info": {
   "codemirror_mode": {
    "name": "ipython",
    "version": 3
   },
   "file_extension": ".py",
   "mimetype": "text/x-python",
   "name": "python",
   "nbconvert_exporter": "python",
   "pygments_lexer": "ipython3",
   "version": "3.13.2"
  }
 },
 "nbformat": 4,
 "nbformat_minor": 5
}
