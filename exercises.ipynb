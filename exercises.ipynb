{
 "cells": [
  {
   "cell_type": "code",
   "execution_count": 1,
   "id": "c73de346",
   "metadata": {},
   "outputs": [
    {
     "name": "stdout",
     "output_type": "stream",
     "text": [
      "Welcome to the pizzahut !\n",
      "please select the type of pizza you want:\n",
      "you have selected veggie pizza.\n"
     ]
    }
   ],
   "source": [
    "# WAP to order a pizza\n",
    "print(\"Welcome to the pizzahut !\")\n",
    "print(\"please select the type of pizza you want:\")\n",
    "pizza = input(\"1.corn pizza\\n2.paneer pizza\\n3. veggie pizza\\n4. cheese pizza\\n5.chicken pizza\\n\")\n",
    "if pizza == '1' or pizza.lower() == 'corn pizza':\n",
    "    print(\"you have selected corn pizza.\")\n",
    "elif pizza == '2' or pizza.lower() == 'paneer pizza':\n",
    "    print(\"you have selected paneer pizza.\")\n",
    "elif pizza == '3' or pizza.lower() == 'veggie pizza':\n",
    "    print(\"you have selected veggie pizza.\")\n",
    "elif pizza == '4' or pizza.lower() == 'cheese pizza':\n",
    "    print(\"you have selected cheese pizza.\")\n",
    "else:\n",
    "    print(\"you have selected chicken pizza.\") "
   ]
  },
  {
   "cell_type": "code",
   "execution_count": 1,
   "id": "6a9be4dd",
   "metadata": {},
   "outputs": [
    {
     "name": "stdout",
     "output_type": "stream",
     "text": [
      "1234 0\n",
      "123 4\n",
      "12 43\n",
      "1 432\n",
      "reversed number is: 4321\n"
     ]
    }
   ],
   "source": [
    "# WAP to reverse a number .\n",
    "\n",
    "num = int(input(\"enter a number to reverse: \"))\n",
    "rev = 0\n",
    "\n",
    "while num > 0:\n",
    "    print(num,rev)\n",
    "    digit = num % 10\n",
    "    rev = rev * 10 + digit\n",
    "    num = num // 10\n",
    "print (\"reversed number is:\", rev)    "
   ]
  },
  {
   "cell_type": "code",
   "execution_count": 4,
   "id": "0f87d7c2",
   "metadata": {},
   "outputs": [
    {
     "name": "stdout",
     "output_type": "stream",
     "text": [
      "153 is an armstrong number.\n"
     ]
    }
   ],
   "source": [
    "# WAP to check if the number is armstrong or not.ex - 153 is armstrong number.\n",
    "\n",
    "num1 = int(input(\"enter a number to check if it is an armstrong number: \"))\n",
    "copy = num1\n",
    "result = 0\n",
    "\n",
    "while num1>0:\n",
    "    d = num1 %10\n",
    "    result = result + d**3\n",
    "    num1 = num1//10\n",
    "\n",
    "if result == copy:\n",
    "    print(f\"{copy} is an armstrong number.\")\n",
    "else:\n",
    "    print(f\"{copy} is not an armstrong number.\")    "
   ]
  },
  {
   "cell_type": "code",
   "execution_count": 6,
   "id": "43bf0afc",
   "metadata": {},
   "outputs": [
    {
     "name": "stdout",
     "output_type": "stream",
     "text": [
      "5.0\n",
      "25 is a perfect square.\n"
     ]
    }
   ],
   "source": [
    "# WAP to check if a number is perfect square number or not. ex - 6 is a perfect square number.\n",
    " \n",
    "num2 = int(input(\"enter a number to check if it is perfect square: \"))\n",
    "\n",
    "sqrt = num2 ** 0.5\n",
    "print(sqrt)\n",
    "\n",
    "if sqrt == int(sqrt):\n",
    "    print(f\"{num2} is a perfect square.\")\n",
    "else:\n",
    "    print(f\"{num2} is not a perfect square.\")"
   ]
  },
  {
   "cell_type": "code",
   "execution_count": 11,
   "id": "71202e0f",
   "metadata": {},
   "outputs": [
    {
     "name": "stdout",
     "output_type": "stream",
     "text": [
      "120\n"
     ]
    }
   ],
   "source": [
    "# WAP to find the factorial of number.\n",
    " \n",
    "num = int(input(\"enter a number:\"))\n",
    "fact = 1\n",
    "\n",
    "for i in range(1,num+1):\n",
    "    fact = fact * i\n",
    "print(fact)    \n",
    "   \n",
    " "
   ]
  },
  {
   "cell_type": "code",
   "execution_count": 2,
   "id": "9b40d3b3",
   "metadata": {},
   "outputs": [
    {
     "name": "stdout",
     "output_type": "stream",
     "text": [
      "121 is palindrome number\n"
     ]
    }
   ],
   "source": [
    "#WAP to check if the number is palindrome or not.ex-121 is palindrome.\n",
    "\n",
    "num = int(input(\"enter a number:\"))\n",
    "temp = num\n",
    "rev = 0\n",
    "\n",
    "while temp>0:\n",
    "    digit = temp % 10\n",
    "    rev = rev * 10 + digit\n",
    "    temp = temp // 10\n",
    "if num==rev:\n",
    "    print(f\"{num} is palindrome number\")\n",
    "else:\n",
    "    print(f\"{num} is not a palindrome number\")    "
   ]
  },
  {
   "cell_type": "code",
   "execution_count": 4,
   "id": "7bdd7b4e",
   "metadata": {},
   "outputs": [
    {
     "name": "stdout",
     "output_type": "stream",
     "text": [
      "49 is divisible by 7 but not by 8\n"
     ]
    }
   ],
   "source": [
    "#WAP to check if the number is divisible by 7 but not by 8.\n",
    "\n",
    "num=int(input(\"enter a number\"))\n",
    "\n",
    "if num % 7 == 0 and num % 8 != 0:\n",
    "    print(f\"{num} is divisible by 7 but not by 8\")\n",
    "else:\n",
    "    print(f\"{num} is either not divisible by 7 or divisible by 8 or both condition are wrong\")"
   ]
  },
  {
   "cell_type": "code",
   "execution_count": 4,
   "id": "b5c68974",
   "metadata": {},
   "outputs": [
    {
     "name": "stdout",
     "output_type": "stream",
     "text": [
      "you are not eligible to sit in the exam due to less attendance\n"
     ]
    }
   ],
   "source": [
    "attendance = float(input(\"enter your attendance: \"))\n",
    "fee_status = input(\"enter the fee status(complete/incomplete)\")\n",
    "\n",
    "if(attendance >= 70) and (fee_status.lower() == \"complete\"):\n",
    "    print(\"you are eligible to sit for the exam.\")\n",
    "elif(attendance < 70) and (fee_status.lower() ==\"complete\"):\n",
    "    print(\"you are not eligible to sit in the exam due to less attendance\")\n",
    "elif(attendance >= 70) and (fee_status.lower() == \"incomplete\"):\n",
    "    print(\"you are not eligible to sit in the exam due to incomplete fee status\")\n",
    "else:\n",
    "    print(\"you are not eligible to sit in the exam due to low attendance and incomplete fee status\")"
   ]
  },
  {
   "cell_type": "code",
   "execution_count": 1,
   "id": "8079b5bd",
   "metadata": {},
   "outputs": [
    {
     "name": "stdout",
     "output_type": "stream",
     "text": [
      "6 is a perfect number\n"
     ]
    }
   ],
   "source": [
    "#WAP to check if the number is perfect number or not.ex- 6 is perfect no. (1+2+3=6)\n",
    "\n",
    "num = int(input(\"enter a number\"))\n",
    "sum_divisors = 0\n",
    "\n",
    "for i in range(1, num):\n",
    "    if num % i == 0:\n",
    "        sum_divisors = sum_divisors + i\n",
    "if sum_divisors == num:\n",
    "    print(f\"{num} is a perfect number\")\n",
    "else:\n",
    "    print(f\"{num} is not a perfect number\")        "
   ]
  },
  {
   "cell_type": "code",
   "execution_count": 2,
   "id": "b1b55383",
   "metadata": {},
   "outputs": [
    {
     "name": "stdout",
     "output_type": "stream",
     "text": [
      "145 is a strong number\n"
     ]
    }
   ],
   "source": [
    "# 1! + 4! + 5! = 1 + 24 + 120 = 145, so 145 is a strong number.\n",
    "num= int(input(\"enter the number\"))\n",
    "copy = num\n",
    "fact = 0\n",
    "\n",
    "while num > 0:\n",
    "    digit = num % 10\n",
    "    f=1\n",
    "    for i in range(1,digit+1):\n",
    "        f=f*i\n",
    "    fact = fact +f\n",
    "    num = num // 10\n",
    "if fact == copy:\n",
    "    print (f\"{copy} is a strong number\")\n",
    "else:\n",
    "    print(f\"{copy} is not a strong number\")        "
   ]
  },
  {
   "cell_type": "code",
   "execution_count": 3,
   "id": "0f821827",
   "metadata": {},
   "outputs": [
    {
     "name": "stdout",
     "output_type": "stream",
     "text": [
      "1124 is a spy number. (sum:8 , product:8)\n"
     ]
    }
   ],
   "source": [
    "#WAP to check if number is spy number. ex- 1124 is spy (sum== product)\n",
    " \n",
    "num = int(input(\"enter a number\"))\n",
    "copy = num \n",
    "sum_digits = 0\n",
    "product_digits = 1\n",
    "\n",
    "while num > 0:\n",
    "    d=num%10\n",
    "    sum_digits = sum_digits + d\n",
    "    product_digits = product_digits*d\n",
    "    num= num // 10\n",
    "if sum_digits==product_digits:\n",
    "    print(f\"{copy} is a spy number. (sum:{sum_digits} , product:{product_digits})\")\n",
    "else:\n",
    "    print(f\"{copy} is not a spy number. (sum: {sum_digits}, product: {product_digits})\")    "
   ]
  },
  {
   "cell_type": "code",
   "execution_count": 5,
   "id": "7503dd34",
   "metadata": {},
   "outputs": [
    {
     "name": "stdout",
     "output_type": "stream",
     "text": [
      "12 is a niven number\n"
     ]
    }
   ],
   "source": [
    "#WAP to check if the number is niven or harshad.ex-12 is niven is divisible by the sum of digits.\n",
    "\n",
    "num = int(input(\"enter a number\"))\n",
    "copy = num\n",
    "d_sum = 0\n",
    "\n",
    "while num > 0:\n",
    "    d= num%10\n",
    "    d_sum = d_sum + d\n",
    "    num = num // 10\n",
    "\n",
    "if (copy % d_sum ==0):\n",
    "    print(f\"{copy} is a niven number\")\n",
    "else:\n",
    "    print(f\"{copy} is not niven number\")\n",
    "        "
   ]
  }
 ],
 "metadata": {
  "kernelspec": {
   "display_name": "base",
   "language": "python",
   "name": "python3"
  },
  "language_info": {
   "codemirror_mode": {
    "name": "ipython",
    "version": 3
   },
   "file_extension": ".py",
   "mimetype": "text/x-python",
   "name": "python",
   "nbconvert_exporter": "python",
   "pygments_lexer": "ipython3",
   "version": "3.13.2"
  }
 },
 "nbformat": 4,
 "nbformat_minor": 5
}
